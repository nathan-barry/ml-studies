{
  "cells": [
    {
      "cell_type": "code",
      "execution_count": 1,
      "metadata": {
        "id": "66vMreXCb5PZ"
      },
      "outputs": [],
      "source": [
        "import torch"
      ]
    },
    {
      "cell_type": "markdown",
      "metadata": {
        "id": "M2M5UBMDcfqX"
      },
      "source": [
        "# Torch Tensor Basics"
      ]
    },
    {
      "cell_type": "code",
      "execution_count": 2,
      "metadata": {
        "colab": {
          "base_uri": "https://localhost:8080/"
        },
        "id": "idm5MG1LcwE9",
        "outputId": "6cfdd3c3-3bbb-4d5d-a608-0f3d747feb95"
      },
      "outputs": [
        {
          "name": "stdout",
          "output_type": "stream",
          "text": [
            "tensor([2, 2, 1])\n"
          ]
        }
      ],
      "source": [
        "# This is a 1-D Tensor\n",
        "a = torch.tensor([2,2,1])\n",
        "print(a)"
      ]
    },
    {
      "cell_type": "code",
      "execution_count": 3,
      "metadata": {
        "colab": {
          "base_uri": "https://localhost:8080/"
        },
        "id": "-qIED1_7c3c3",
        "outputId": "7f1b99a4-9d55-4d54-cf47-9d9b0545c641"
      },
      "outputs": [
        {
          "name": "stdout",
          "output_type": "stream",
          "text": [
            "tensor([[ 1,  2,  3],\n",
            "        [ 4,  5,  6],\n",
            "        [ 7,  8,  9],\n",
            "        [10, 11, 12]])\n"
          ]
        }
      ],
      "source": [
        "# This is a 2-D Tensor\n",
        "b = torch.tensor([[1,2,3],[4,5,6],[7,8,9],[10,11,12]])\n",
        "print(b)"
      ]
    },
    {
      "cell_type": "code",
      "execution_count": 4,
      "metadata": {
        "colab": {
          "base_uri": "https://localhost:8080/"
        },
        "id": "GpShpgBGdF4j",
        "outputId": "35dc33d0-2592-4784-cfa7-ed5aa2d0cc9f"
      },
      "outputs": [
        {
          "name": "stdout",
          "output_type": "stream",
          "text": [
            "torch.Size([3])\n",
            "torch.Size([3])\n",
            "torch.Size([4, 3])\n",
            "torch.Size([4, 3])\n"
          ]
        }
      ],
      "source": [
        "# The size of the tensors\n",
        "print(a.shape)\n",
        "print(a.size())\n",
        "print(b.shape)\n",
        "print(b.size())"
      ]
    },
    {
      "cell_type": "code",
      "execution_count": 5,
      "metadata": {
        "colab": {
          "base_uri": "https://localhost:8080/"
        },
        "id": "EjiDzzo6dA3D",
        "outputId": "5724258d-ec92-4eeb-d138-904ff4900c4c"
      },
      "outputs": [
        {
          "name": "stdout",
          "output_type": "stream",
          "text": [
            "4\n"
          ]
        }
      ],
      "source": [
        "# Get the height/number of rows of b\n",
        "print(b.shape[0])"
      ]
    },
    {
      "cell_type": "code",
      "execution_count": 6,
      "metadata": {
        "id": "Y_mk_U3Kdhnm"
      },
      "outputs": [],
      "source": [
        "# Create a float tensor\n",
        "c = torch.tensor([[1,2,3],[4,5,6],[7,8,9],[10,11,12]], dtype = torch.float)\n",
        "# or we can do\n",
        "# c = torch.FloatTensor([[1,2,3],[4,5,6],[7,8,9],[10,11,12]])"
      ]
    },
    {
      "cell_type": "code",
      "execution_count": 7,
      "metadata": {
        "id": "dnNAEhvaeGe8"
      },
      "outputs": [],
      "source": [
        "# Create a float tensor\n",
        "d = torch.tensor([[1,2,3],[4,5,6],[7,8,9],[10,11,12]], dtype = torch.double)\n",
        "# or we can do\n",
        "# d = torch.DoubleTensor([[1,2,3],[4,5,6],[7,8,9],[10,11,12]])"
      ]
    },
    {
      "cell_type": "code",
      "execution_count": 8,
      "metadata": {
        "colab": {
          "base_uri": "https://localhost:8080/"
        },
        "id": "bE-G-D2nf6wJ",
        "outputId": "cdbe38ad-fa1e-4996-ec01-2fd69b086569"
      },
      "outputs": [
        {
          "name": "stdout",
          "output_type": "stream",
          "text": [
            "tensor(6.5000)\n",
            "tensor(3.6056)\n"
          ]
        }
      ],
      "source": [
        "print(c.mean())\n",
        "print(c.std())"
      ]
    },
    {
      "cell_type": "code",
      "execution_count": 9,
      "metadata": {
        "colab": {
          "base_uri": "https://localhost:8080/"
        },
        "id": "p-hLMupQftzV",
        "outputId": "0c5d0514-2e96-4f4f-9287-4709d1b69d1d"
      },
      "outputs": [
        {
          "name": "stdout",
          "output_type": "stream",
          "text": [
            "tensor([[ 1.,  2.,  3.],\n",
            "        [ 4.,  5.,  6.],\n",
            "        [ 7.,  8.,  9.],\n",
            "        [10., 11., 12.]])\n",
            "torch.float32\n"
          ]
        }
      ],
      "source": [
        "print(c)\n",
        "print(c.dtype)"
      ]
    },
    {
      "cell_type": "code",
      "execution_count": 10,
      "metadata": {
        "colab": {
          "base_uri": "https://localhost:8080/"
        },
        "id": "UH4ijEAmfyKo",
        "outputId": "1d34aef0-c128-4908-a860-647b411d74d0"
      },
      "outputs": [
        {
          "name": "stdout",
          "output_type": "stream",
          "text": [
            "tensor([[ 1.,  2.,  3.],\n",
            "        [ 4.,  5.,  6.],\n",
            "        [ 7.,  8.,  9.],\n",
            "        [10., 11., 12.]], dtype=torch.float64)\n",
            "torch.float64\n"
          ]
        }
      ],
      "source": [
        "print(d)\n",
        "print(d.dtype)"
      ]
    },
    {
      "cell_type": "markdown",
      "metadata": {
        "id": "3sMwesLJj-cr"
      },
      "source": [
        "## Tensor Initialization"
      ]
    },
    {
      "cell_type": "code",
      "execution_count": 11,
      "metadata": {
        "colab": {
          "base_uri": "https://localhost:8080/"
        },
        "id": "jcvOFu8lkCnl",
        "outputId": "5298c77d-c4f0-46ac-c993-75d65c381d19"
      },
      "outputs": [
        {
          "name": "stdout",
          "output_type": "stream",
          "text": [
            "tensor([[0.7232, 0.2000, 0.8025, 0.5441],\n",
            "        [0.2298, 0.8392, 0.7807, 0.1820],\n",
            "        [0.5059, 0.4379, 0.5938, 0.7353],\n",
            "        [0.8139, 0.9399, 0.6380, 0.5788]])\n",
            "torch.float32\n"
          ]
        }
      ],
      "source": [
        "# Create a matrix with random numbers between 0 and 1\n",
        "r = torch.rand(4,4)\n",
        "print(r)\n",
        "print(r.dtype)"
      ]
    },
    {
      "cell_type": "code",
      "execution_count": 12,
      "metadata": {
        "colab": {
          "base_uri": "https://localhost:8080/"
        },
        "id": "P6Cx9mWrkIIV",
        "outputId": "a7e830fb-d0e1-4b5b-b1d3-2d8ed8d927a2"
      },
      "outputs": [
        {
          "name": "stdout",
          "output_type": "stream",
          "text": [
            "tensor([[-0.9364, -0.9244, -1.8114,  0.9051],\n",
            "        [-0.0653,  1.3530, -0.6328, -1.8371],\n",
            "        [ 0.7593,  0.7205, -0.6417, -0.8433],\n",
            "        [-0.9931,  1.7660, -0.7124, -0.1129]])\n",
            "torch.float32\n"
          ]
        }
      ],
      "source": [
        "# Create a matrix with random numbers taken from a normal distribution with mean 0 and standard deviation 1\n",
        "r2 = torch.randn(4,4)\n",
        "print(r2)\n",
        "print(r2.dtype)"
      ]
    },
    {
      "cell_type": "code",
      "execution_count": 13,
      "metadata": {
        "colab": {
          "base_uri": "https://localhost:8080/"
        },
        "id": "gZ7ICXGakooc",
        "outputId": "3bc34cf5-018a-41b5-8bbc-6e806d0fd409"
      },
      "outputs": [
        {
          "name": "stdout",
          "output_type": "stream",
          "text": [
            "tensor([[9, 8, 8, 7],\n",
            "        [9, 9, 6, 7],\n",
            "        [6, 7, 8, 7],\n",
            "        [6, 7, 6, 8]])\n",
            "torch.int64\n"
          ]
        }
      ],
      "source": [
        "# Create an array of 5 random integers from values between 6 and 9\n",
        "r3 = torch.randint(6,10,(4,4))\n",
        "print(r3)\n",
        "print(r3.dtype)"
      ]
    },
    {
      "cell_type": "code",
      "execution_count": 14,
      "metadata": {
        "colab": {
          "base_uri": "https://localhost:8080/"
        },
        "id": "mmk9My1glFme",
        "outputId": "579706f3-f4de-47ef-d3c8-23932ffb6da4"
      },
      "outputs": [
        {
          "name": "stdout",
          "output_type": "stream",
          "text": [
            "16\n",
            "16\n",
            "16\n"
          ]
        }
      ],
      "source": [
        "# Get the number of elements in r, r2, and r3\n",
        "print(torch.numel(r))\n",
        "print(torch.numel(r2))\n",
        "print(torch.numel(r3))\n"
      ]
    },
    {
      "cell_type": "code",
      "execution_count": 15,
      "metadata": {
        "colab": {
          "base_uri": "https://localhost:8080/"
        },
        "id": "syOvYEJ4lUKa",
        "outputId": "d3c14994-a345-463d-bca1-b22f925cb208"
      },
      "outputs": [
        {
          "name": "stdout",
          "output_type": "stream",
          "text": [
            "tensor([[0, 0, 0],\n",
            "        [0, 0, 0],\n",
            "        [0, 0, 0]])\n",
            "torch.int64\n"
          ]
        }
      ],
      "source": [
        "# Construct a 3x3 matrix of zeros and of dtype long\n",
        "z = torch.zeros( 3, 3, dtype=torch.long)\n",
        "print(z)\n",
        "print(z.dtype)"
      ]
    },
    {
      "cell_type": "code",
      "execution_count": 16,
      "metadata": {
        "colab": {
          "base_uri": "https://localhost:8080/"
        },
        "id": "5yo-0jBTl-ug",
        "outputId": "d36e146b-017f-41c3-b8a2-ffe300e807fe"
      },
      "outputs": [
        {
          "name": "stdout",
          "output_type": "stream",
          "text": [
            "tensor([[1., 1., 1.],\n",
            "        [1., 1., 1.],\n",
            "        [1., 1., 1.]])\n",
            "torch.float32\n"
          ]
        }
      ],
      "source": [
        "# Construct a 3x3 matrix of ones\n",
        "o = torch.ones(3,3)\n",
        "print(o)\n",
        "print(o.dtype)"
      ]
    },
    {
      "cell_type": "code",
      "execution_count": 17,
      "metadata": {
        "colab": {
          "base_uri": "https://localhost:8080/"
        },
        "id": "NyFQO9bNmSWY",
        "outputId": "2608f51c-3055-4e48-e85b-572b8d763c56"
      },
      "outputs": [
        {
          "name": "stdout",
          "output_type": "stream",
          "text": [
            "tensor([[ 0.1567,  0.8186,  0.3715, -0.6890],\n",
            "        [ 0.8030,  0.5178, -0.6878,  0.1625],\n",
            "        [-0.8676,  0.7637, -0.4857,  0.3023],\n",
            "        [-1.8072, -0.2084,  0.1049,  0.3496]], dtype=torch.float64)\n"
          ]
        }
      ],
      "source": [
        "# Create an array with normal distrubution values in the shape of another tensor\n",
        "r2_like = torch.randn_like(r2, dtype=torch.double)\n",
        "print(r2_like)\n"
      ]
    },
    {
      "cell_type": "markdown",
      "metadata": {
        "id": "eQ8He-9xhzTU"
      },
      "source": [
        "## Tensor Manipulation"
      ]
    },
    {
      "cell_type": "code",
      "execution_count": 18,
      "metadata": {
        "colab": {
          "base_uri": "https://localhost:8080/"
        },
        "id": "9Z15nYekiC5-",
        "outputId": "50ef6a4d-0b98-40f7-904c-c323f3a9e170"
      },
      "outputs": [
        {
          "name": "stdout",
          "output_type": "stream",
          "text": [
            "tensor([[ 1],\n",
            "        [ 2],\n",
            "        [ 3],\n",
            "        [ 4],\n",
            "        [ 5],\n",
            "        [ 6],\n",
            "        [ 7],\n",
            "        [ 8],\n",
            "        [ 9],\n",
            "        [10],\n",
            "        [11],\n",
            "        [12]])\n",
            "tensor([ 1,  2,  3,  4,  5,  6,  7,  8,  9, 10, 11, 12])\n",
            "tensor([[ 1,  2,  3,  4],\n",
            "        [ 5,  6,  7,  8],\n",
            "        [ 9, 10, 11, 12]])\n",
            "tensor([[ 1,  2,  3,  4],\n",
            "        [ 5,  6,  7,  8],\n",
            "        [ 9, 10, 11, 12]])\n"
          ]
        }
      ],
      "source": [
        "# Note: if one of the dimensions is -1, its size can be inferred\n",
        "print(b.view(-1, 1))\n",
        "print(b.view(12))\n",
        "print(b.view(-1,4))\n",
        "print(b.view(3,4))"
      ]
    },
    {
      "cell_type": "code",
      "execution_count": 19,
      "metadata": {
        "colab": {
          "base_uri": "https://localhost:8080/"
        },
        "id": "M96F2X6qieH5",
        "outputId": "027624d4-4459-4c81-877a-82f224d9ee86"
      },
      "outputs": [
        {
          "name": "stdout",
          "output_type": "stream",
          "text": [
            "tensor([[ 1,  2,  3,  4,  5,  6,  7,  8,  9, 10, 11, 12]])\n",
            "torch.Size([1, 12])\n"
          ]
        }
      ],
      "source": [
        "# Assign b a new shape\n",
        "b = b.view(1, -1)\n",
        "print(b)\n",
        "print(b.shape)"
      ]
    },
    {
      "cell_type": "code",
      "execution_count": 20,
      "metadata": {
        "colab": {
          "base_uri": "https://localhost:8080/"
        },
        "id": "oShyusFijTbK",
        "outputId": "34673fb5-946a-44f8-f8ad-48c32cb76c47"
      },
      "outputs": [
        {
          "name": "stdout",
          "output_type": "stream",
          "text": [
            "tensor([[[ 0.9376, -0.4923,  1.2839,  0.2516],\n",
            "         [ 0.9579, -1.1537,  1.3764,  0.2164],\n",
            "         [-0.1496, -1.8606, -1.1737,  0.3161]],\n",
            "\n",
            "        [[-0.6614,  0.0222, -0.4623,  1.3141],\n",
            "         [ 0.4539,  3.1209,  0.5449,  0.0131],\n",
            "         [ 0.5157, -0.4541,  0.7756, -0.4263]]])\n",
            "tensor([[ 0.9376, -0.4923,  1.2839,  0.2516,  0.9579, -1.1537,  1.3764,  0.2164,\n",
            "         -0.1496, -1.8606, -1.1737,  0.3161],\n",
            "        [-0.6614,  0.0222, -0.4623,  1.3141,  0.4539,  3.1209,  0.5449,  0.0131,\n",
            "          0.5157, -0.4541,  0.7756, -0.4263]])\n",
            "tensor([[ 0.9376, -0.4923,  1.2839,  0.2516,  0.9579, -1.1537,  1.3764,  0.2164,\n",
            "         -0.1496, -1.8606, -1.1737,  0.3161],\n",
            "        [-0.6614,  0.0222, -0.4623,  1.3141,  0.4539,  3.1209,  0.5449,  0.0131,\n",
            "          0.5157, -0.4541,  0.7756, -0.4263]])\n"
          ]
        }
      ],
      "source": [
        "# Create a 3D Tensor with 2 channels, 3 rowss, and 4 columns (channels, rows, columns)\n",
        "threeDim = torch.randn(2,3,4)\n",
        "print(threeDim)\n",
        "print(threeDim.view(2,12))\n",
        "print(threeDim.view(2,-1))"
      ]
    },
    {
      "cell_type": "code",
      "execution_count": 21,
      "metadata": {
        "colab": {
          "base_uri": "https://localhost:8080/"
        },
        "id": "k58no44tmuKy",
        "outputId": "e42549dd-4037-4259-99c0-cfeb0e69238b"
      },
      "outputs": [
        {
          "name": "stdout",
          "output_type": "stream",
          "text": [
            "tensor([[-0.2132, -0.7244, -1.0089,  1.4492],\n",
            "        [ 0.1645,  2.1922,  0.1479, -1.6552],\n",
            "        [ 1.2652,  1.1584, -0.0479, -0.1080],\n",
            "        [-0.1792,  2.7058, -0.0744,  0.4658]])\n"
          ]
        }
      ],
      "source": [
        "# Add two tensors (need to be same size and data type)\n",
        "add_result = torch.add(r, r2)\n",
        "print(add_result)"
      ]
    },
    {
      "cell_type": "code",
      "execution_count": 22,
      "metadata": {
        "colab": {
          "base_uri": "https://localhost:8080/"
        },
        "id": "FI_kn6a9m1KU",
        "outputId": "f3d43afa-900a-4ec6-e066-28b3c3b31b83"
      },
      "outputs": [
        {
          "name": "stdout",
          "output_type": "stream",
          "text": [
            "tensor([[-0.2132, -0.7244, -1.0089,  1.4492],\n",
            "        [ 0.1645,  2.1922,  0.1479, -1.6552],\n",
            "        [ 1.2652,  1.1584, -0.0479, -0.1080],\n",
            "        [-0.1792,  2.7058, -0.0744,  0.4658]])\n"
          ]
        }
      ],
      "source": [
        "# In-place addition (change value of r2)\n",
        "r2.add_(r)\n",
        "print(r2)"
      ]
    },
    {
      "cell_type": "code",
      "execution_count": 23,
      "metadata": {
        "colab": {
          "base_uri": "https://localhost:8080/"
        },
        "id": "4bf-gkibnq8j",
        "outputId": "f7df60ac-505c-48a2-f633-b50174a37585"
      },
      "outputs": [
        {
          "name": "stdout",
          "output_type": "stream",
          "text": [
            "tensor([-0.7244,  2.1922,  1.1584,  2.7058])\n",
            "tensor([[-0.2132, -0.7244],\n",
            "        [ 0.1645,  2.1922],\n",
            "        [ 1.2652,  1.1584],\n",
            "        [-0.1792,  2.7058]])\n",
            "tensor([[-0.2132, -0.7244, -1.0089,  1.4492],\n",
            "        [ 0.1645,  2.1922,  0.1479, -1.6552],\n",
            "        [ 1.2652,  1.1584, -0.0479, -0.1080]])\n"
          ]
        }
      ],
      "source": [
        "# Slicing\n",
        "print(r2[:,1]) # All the rows in the first column\n",
        "print(r2[:,:2]) # All the rows in the first 2 columns\n",
        "print(r2[:3,:]) # All the columns in the first 3 rows"
      ]
    },
    {
      "cell_type": "code",
      "execution_count": 24,
      "metadata": {
        "colab": {
          "base_uri": "https://localhost:8080/"
        },
        "id": "jeeJX3fdn8jy",
        "outputId": "64599941-c445-4177-f4bb-b8dd3034da00"
      },
      "outputs": [
        {
          "name": "stdout",
          "output_type": "stream",
          "text": [
            "tensor(-0.1080)\n",
            "-0.1079864501953125\n",
            "tensor([ 1.2652,  1.1584, -0.0479, -0.1080])\n"
          ]
        }
      ],
      "source": [
        "num_ten = r2[2,3] # element in third row fourth column\n",
        "print(num_ten)\n",
        "print(num_ten.item())\n",
        "print(r2[2,:]) # All columns in second row"
      ]
    },
    {
      "cell_type": "code",
      "execution_count": 25,
      "metadata": {
        "colab": {
          "base_uri": "https://localhost:8080/"
        },
        "id": "y4GpZWeQO-pn",
        "outputId": "483ed0c6-09ab-4d24-989e-335d811226b6"
      },
      "outputs": [
        {
          "name": "stdout",
          "output_type": "stream",
          "text": [
            "False\n"
          ]
        }
      ],
      "source": [
        "# Moving tensor to GPU\n",
        "print(torch.cuda.is_available())\n",
        "#r2 = r2.cuda()"
      ]
    },
    {
      "cell_type": "markdown",
      "metadata": {
        "id": "3ejEpP3MpAv4"
      },
      "source": [
        "## Numpy Bridge"
      ]
    },
    {
      "cell_type": "code",
      "execution_count": 26,
      "metadata": {
        "id": "lTvAXBRGpFFY"
      },
      "outputs": [],
      "source": [
        "import numpy as np"
      ]
    },
    {
      "cell_type": "code",
      "execution_count": 27,
      "metadata": {
        "colab": {
          "base_uri": "https://localhost:8080/"
        },
        "id": "hrsiCwYfOJem",
        "outputId": "5bbc0f61-3aa4-409d-80b2-b94c74472fb3"
      },
      "outputs": [
        {
          "name": "stdout",
          "output_type": "stream",
          "text": [
            "tensor([1., 1., 1., 1., 1.])\n",
            "[1. 1. 1. 1. 1.]\n",
            "tensor([2., 2., 2., 2., 2.])\n",
            "[2. 2. 2. 2. 2.]\n"
          ]
        }
      ],
      "source": [
        "# Converting a Torch Tensor to a NumPy Array\n",
        "a = torch.ones(5)\n",
        "print(a)\n",
        "b = a.numpy()\n",
        "print(b)\n",
        "\n",
        "# Updating one updates the other\n",
        "a.add_(1)\n",
        "print(a)\n",
        "print(b)"
      ]
    },
    {
      "cell_type": "code",
      "execution_count": 28,
      "metadata": {
        "colab": {
          "base_uri": "https://localhost:8080/"
        },
        "id": "D8-hlbrdOm1X",
        "outputId": "dddd287d-f52d-483f-de4f-6e4704ad7099"
      },
      "outputs": [
        {
          "name": "stdout",
          "output_type": "stream",
          "text": [
            "[1. 1. 1. 1. 1.]\n",
            "tensor([1., 1., 1., 1., 1.], dtype=torch.float64)\n",
            "[2. 2. 2. 2. 2.]\n",
            "tensor([2., 2., 2., 2., 2.], dtype=torch.float64)\n"
          ]
        }
      ],
      "source": [
        "# Convert NumPy Array to Torch Tensor\n",
        "a = np.ones(5)\n",
        "b = torch.from_numpy(a)\n",
        "print(a)\n",
        "print(b)\n",
        "\n",
        "np.add(a, 1, out=a)\n",
        "print(a)\n",
        "print(b)"
      ]
    },
    {
      "cell_type": "code",
      "execution_count": 29,
      "metadata": {
        "colab": {
          "base_uri": "https://localhost:8080/"
        },
        "id": "_b8K5mdbPRJ0",
        "outputId": "bb58e69c-dba8-4c48-9d03-c8ff1ba055fb"
      },
      "outputs": [
        {
          "name": "stdout",
          "output_type": "stream",
          "text": [
            "[1, 2, 3, 4]\n",
            "tensor([1, 2, 3, 4]) torch.int64\n"
          ]
        }
      ],
      "source": [
        "# Converting a list to a tensor\n",
        "a = [1,2,3,4]\n",
        "print(a)\n",
        "to_list = torch.tensor(a)\n",
        "print(to_list, to_list.dtype)"
      ]
    },
    {
      "cell_type": "markdown",
      "metadata": {
        "id": "StBKBFbpPgrN"
      },
      "source": [
        "## Tensor Concatenation"
      ]
    },
    {
      "cell_type": "code",
      "execution_count": 30,
      "metadata": {
        "colab": {
          "base_uri": "https://localhost:8080/"
        },
        "id": "kGOXWS_3Pjaw",
        "outputId": "eff575c6-8d8b-49dc-867b-feff553a45db"
      },
      "outputs": [
        {
          "name": "stdout",
          "output_type": "stream",
          "text": [
            "tensor([[-1.6266,  1.4577, -0.5604,  1.2156, -2.0893],\n",
            "        [ 0.8623,  0.5005,  0.7830, -0.8035,  0.2946]])\n",
            "tensor([[-0.5084,  0.3819, -0.1100, -2.0726, -1.5440],\n",
            "        [ 1.7129,  0.5353,  0.3998,  0.7815, -0.3566],\n",
            "        [-0.3904,  0.9411,  0.1379,  0.7167, -0.3691]])\n",
            "\n",
            "\n",
            "tensor([[-1.6266,  1.4577, -0.5604,  1.2156, -2.0893],\n",
            "        [ 0.8623,  0.5005,  0.7830, -0.8035,  0.2946],\n",
            "        [-0.5084,  0.3819, -0.1100, -2.0726, -1.5440],\n",
            "        [ 1.7129,  0.5353,  0.3998,  0.7815, -0.3566],\n",
            "        [-0.3904,  0.9411,  0.1379,  0.7167, -0.3691]])\n",
            "\n",
            "\n",
            "tensor([[ 0.2538, -0.2923,  0.4354],\n",
            "        [ 0.1504, -0.0289,  1.5242]])\n",
            "tensor([[-0.2708,  1.2894,  0.3511, -1.2398,  0.7320],\n",
            "        [ 0.1815, -0.4223, -0.5488, -0.3038,  0.2444]])\n",
            "\n",
            "\n",
            "tensor([[ 0.2538, -0.2923,  0.4354, -0.2708,  1.2894,  0.3511, -1.2398,  0.7320],\n",
            "        [ 0.1504, -0.0289,  1.5242,  0.1815, -0.4223, -0.5488, -0.3038,  0.2444]])\n",
            "\n",
            "\n"
          ]
        }
      ],
      "source": [
        "# Tensor Concatenation\n",
        "first1 = torch.randn(2,5)\n",
        "print(first1)\n",
        "second1 = torch.randn(3,5)\n",
        "print(second1)\n",
        "\n",
        "# Concatenate along the 0 dimension (concatenate rows)\n",
        "con1 = torch.cat([first1, second1])\n",
        "print('\\n')\n",
        "print(con1)\n",
        "print('\\n')\n",
        "\n",
        "first2 = torch.randn(2,3)\n",
        "print(first2)\n",
        "second2 = torch.randn(2,5)\n",
        "print(second2)\n",
        "\n",
        "# Concatenate along the 1 dimension (concatenate columns)\n",
        "con2 = torch.cat([first2,second2],1)\n",
        "print('\\n')\n",
        "print(con2)\n",
        "print('\\n')"
      ]
    },
    {
      "cell_type": "markdown",
      "metadata": {
        "id": "rNAV9zd9Q1ZH"
      },
      "source": [
        "## Adding Dimensions"
      ]
    },
    {
      "cell_type": "code",
      "execution_count": 31,
      "metadata": {
        "colab": {
          "base_uri": "https://localhost:8080/"
        },
        "id": "qRVQwhZ4Q3l7",
        "outputId": "bf9ed027-8703-4872-ef78-fd3c8f8c074f"
      },
      "outputs": [
        {
          "name": "stdout",
          "output_type": "stream",
          "text": [
            "tensor([1, 2, 3, 4])\n",
            "torch.Size([4])\n",
            "tensor([[1, 2, 3, 4]])\n",
            "torch.Size([1, 4])\n"
          ]
        }
      ],
      "source": [
        "# Adding dimensions of 1 along a specified index\n",
        "tensor1 = torch.tensor([1,2,3,4])\n",
        "tensor2 = torch.unsqueeze(tensor1, 0)\n",
        "print(tensor1)\n",
        "print(tensor1.shape)\n",
        "print(tensor2)\n",
        "print(tensor2.shape)"
      ]
    },
    {
      "cell_type": "markdown",
      "metadata": {
        "id": "ZehhVdxWRrzu"
      },
      "source": [
        "## AutoGrad"
      ]
    },
    {
      "cell_type": "code",
      "execution_count": 32,
      "metadata": {
        "colab": {
          "base_uri": "https://localhost:8080/"
        },
        "id": "j65_vNa3RuCk",
        "outputId": "9592b067-d643-424c-ec52-3ddc0d90d358"
      },
      "outputs": [
        {
          "name": "stdout",
          "output_type": "stream",
          "text": [
            "tensor([5., 7., 9.], grad_fn=<AddBackward0>)\n",
            "<AddBackward0 object at 0x7ff4505a15b0>\n",
            "tensor(21., grad_fn=<SumBackward0>)\n",
            "<SumBackward0 object at 0x7ff45059a040>\n"
          ]
        }
      ],
      "source": [
        "x = torch.tensor([1., 2., 3], requires_grad=True)\n",
        "y = torch.tensor([4., 5., 6], requires_grad=True)\n",
        "\n",
        "# Since x and y have required_grad set to true, we can computer gradients with respect to them\n",
        "z = x + y\n",
        "print(z)\n",
        "\n",
        "# z knows that is was created as a result of addition of x and y\n",
        "print(z.grad_fn)\n",
        "\n",
        "s = z.sum()\n",
        "print(s)\n",
        "print(s.grad_fn)"
      ]
    },
    {
      "cell_type": "code",
      "execution_count": 33,
      "metadata": {
        "colab": {
          "base_uri": "https://localhost:8080/"
        },
        "id": "93gXdEINSeGO",
        "outputId": "7d09684d-3c28-49ad-840f-d67f148984fa"
      },
      "outputs": [
        {
          "name": "stdout",
          "output_type": "stream",
          "text": [
            "tensor([1., 1., 1.])\n"
          ]
        }
      ],
      "source": [
        "# If we backpropagate on s, we can find the gradients of s with respect to x\n",
        "s.backward()\n",
        "print(x.grad)"
      ]
    }
  ],
  "metadata": {
    "colab": {
      "authorship_tag": "ABX9TyPXksvmDazIgFf5t5AMhxL+",
      "include_colab_link": true,
      "provenance": []
    },
    "kernelspec": {
      "display_name": "base",
      "language": "python",
      "name": "python3"
    },
    "language_info": {
      "codemirror_mode": {
        "name": "ipython",
        "version": 3
      },
      "file_extension": ".py",
      "mimetype": "text/x-python",
      "name": "python",
      "nbconvert_exporter": "python",
      "pygments_lexer": "ipython3",
      "version": "3.9.13 (main, Aug 25 2022, 23:26:10) \n[GCC 11.2.0]"
    },
    "vscode": {
      "interpreter": {
        "hash": "0765b9855a7659208f612bcb0b9b5e473e80eecc03acde40f135996d767af958"
      }
    }
  },
  "nbformat": 4,
  "nbformat_minor": 0
}
