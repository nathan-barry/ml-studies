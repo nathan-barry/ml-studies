{
  "nbformat": 4,
  "nbformat_minor": 0,
  "metadata": {
    "colab": {
      "provenance": [],
      "authorship_tag": "ABX9TyOFmKLt4Va9uNm1QSpL5v7M",
      "include_colab_link": true
    },
    "kernelspec": {
      "name": "python3",
      "display_name": "Python 3"
    },
    "language_info": {
      "name": "python"
    }
  },
  "cells": [
    {
      "cell_type": "markdown",
      "metadata": {
        "id": "view-in-github",
        "colab_type": "text"
      },
      "source": [
        "<a href=\"https://colab.research.google.com/github/nathan-barry/ml-studies/blob/main/pytorch-basics.ipynb\" target=\"_parent\"><img src=\"https://colab.research.google.com/assets/colab-badge.svg\" alt=\"Open In Colab\"/></a>"
      ]
    },
    {
      "cell_type": "code",
      "execution_count": 1,
      "metadata": {
        "id": "66vMreXCb5PZ"
      },
      "outputs": [],
      "source": [
        "import torch"
      ]
    },
    {
      "cell_type": "markdown",
      "source": [
        "# Torch Tensor Basics"
      ],
      "metadata": {
        "id": "M2M5UBMDcfqX"
      }
    },
    {
      "cell_type": "code",
      "source": [
        "# This is a 1-D Tensor\n",
        "a = torch.tensor([2,2,1])\n",
        "print(a)"
      ],
      "metadata": {
        "colab": {
          "base_uri": "https://localhost:8080/"
        },
        "id": "idm5MG1LcwE9",
        "outputId": "c4a92f0b-662d-4181-bab3-89997ed0dfd6"
      },
      "execution_count": 5,
      "outputs": [
        {
          "output_type": "stream",
          "name": "stdout",
          "text": [
            "tensor([2, 2, 1])\n"
          ]
        }
      ]
    },
    {
      "cell_type": "code",
      "source": [
        "# This is a 2-D Tensor\n",
        "b = torch.tensor([[1,2,3],[4,5,6],[7,8,9],[10,11,12]])\n",
        "print(b)"
      ],
      "metadata": {
        "colab": {
          "base_uri": "https://localhost:8080/"
        },
        "id": "-qIED1_7c3c3",
        "outputId": "81a51dc7-7d6d-4941-c7be-85666488cc4e"
      },
      "execution_count": 10,
      "outputs": [
        {
          "output_type": "stream",
          "name": "stdout",
          "text": [
            "tensor([[ 1,  2,  3],\n",
            "        [ 4,  5,  6],\n",
            "        [ 7,  8,  9],\n",
            "        [10, 11, 12]])\n"
          ]
        }
      ]
    },
    {
      "cell_type": "code",
      "source": [
        "# The size of the tensors\n",
        "print(a.shape)\n",
        "print(a.size())\n",
        "print(b.shape)\n",
        "print(b.size())"
      ],
      "metadata": {
        "colab": {
          "base_uri": "https://localhost:8080/"
        },
        "id": "GpShpgBGdF4j",
        "outputId": "b0bd4ce2-d06a-40db-a298-644476bf57cf"
      },
      "execution_count": 11,
      "outputs": [
        {
          "output_type": "stream",
          "name": "stdout",
          "text": [
            "torch.Size([3])\n",
            "torch.Size([3])\n",
            "torch.Size([4, 3])\n",
            "torch.Size([4, 3])\n"
          ]
        }
      ]
    },
    {
      "cell_type": "code",
      "source": [
        "# Get the height/number of rows of b\n",
        "print(b.shape[0])"
      ],
      "metadata": {
        "colab": {
          "base_uri": "https://localhost:8080/"
        },
        "id": "EjiDzzo6dA3D",
        "outputId": "3c21e9bb-faa6-45ba-e77d-81633a3e829c"
      },
      "execution_count": 12,
      "outputs": [
        {
          "output_type": "stream",
          "name": "stdout",
          "text": [
            "4\n"
          ]
        }
      ]
    },
    {
      "cell_type": "code",
      "source": [
        "# Create a float tensor\n",
        "c = torch.tensor([[1,2,3],[4,5,6],[7,8,9],[10,11,12]], dtype = torch.float)\n",
        "# or we can do\n",
        "# c = torch.FloatTensor([[1,2,3],[4,5,6],[7,8,9],[10,11,12]])"
      ],
      "metadata": {
        "id": "Y_mk_U3Kdhnm"
      },
      "execution_count": 20,
      "outputs": []
    },
    {
      "cell_type": "code",
      "source": [
        "# Create a float tensor\n",
        "d = torch.tensor([[1,2,3],[4,5,6],[7,8,9],[10,11,12]], dtype = torch.double)\n",
        "# or we can do\n",
        "# d = torch.DoubleTensor([[1,2,3],[4,5,6],[7,8,9],[10,11,12]])"
      ],
      "metadata": {
        "id": "dnNAEhvaeGe8"
      },
      "execution_count": 21,
      "outputs": []
    },
    {
      "cell_type": "code",
      "source": [
        "print(c.mean())\n",
        "print(c.std())"
      ],
      "metadata": {
        "colab": {
          "base_uri": "https://localhost:8080/"
        },
        "id": "bE-G-D2nf6wJ",
        "outputId": "6f964036-2c24-49ff-d3f0-295615a34445"
      },
      "execution_count": 25,
      "outputs": [
        {
          "output_type": "stream",
          "name": "stdout",
          "text": [
            "tensor(6.5000)\n",
            "tensor(3.6056)\n"
          ]
        }
      ]
    },
    {
      "cell_type": "code",
      "source": [
        "print(c)\n",
        "print(c.dtype)"
      ],
      "metadata": {
        "colab": {
          "base_uri": "https://localhost:8080/"
        },
        "id": "p-hLMupQftzV",
        "outputId": "4987043f-ba58-450f-d2a1-d57d3edbad9e"
      },
      "execution_count": 24,
      "outputs": [
        {
          "output_type": "stream",
          "name": "stdout",
          "text": [
            "tensor([[ 1.,  2.,  3.],\n",
            "        [ 4.,  5.,  6.],\n",
            "        [ 7.,  8.,  9.],\n",
            "        [10., 11., 12.]])\n",
            "torch.float32\n",
            "tensor(6.5000)\n"
          ]
        }
      ]
    },
    {
      "cell_type": "code",
      "source": [
        "print(d)\n",
        "print(d.dtype)"
      ],
      "metadata": {
        "colab": {
          "base_uri": "https://localhost:8080/"
        },
        "id": "UH4ijEAmfyKo",
        "outputId": "44df1550-fff6-41eb-fa12-4f464045343f"
      },
      "execution_count": 26,
      "outputs": [
        {
          "output_type": "stream",
          "name": "stdout",
          "text": [
            "tensor([[ 1.,  2.,  3.],\n",
            "        [ 4.,  5.,  6.],\n",
            "        [ 7.,  8.,  9.],\n",
            "        [10., 11., 12.]], dtype=torch.float64)\n",
            "torch.float64\n"
          ]
        }
      ]
    },
    {
      "cell_type": "markdown",
      "source": [
        "## Tensor Manipulation"
      ],
      "metadata": {
        "id": "eQ8He-9xhzTU"
      }
    },
    {
      "cell_type": "code",
      "source": [
        "# Note: if one of the dimensions is -1, its size can be inferred\n",
        "print(b.view(-1, 1))\n",
        "print(b.view(12))\n",
        "print(b.view(-1,4))\n",
        "print(b.view(3,4))"
      ],
      "metadata": {
        "colab": {
          "base_uri": "https://localhost:8080/"
        },
        "id": "9Z15nYekiC5-",
        "outputId": "a2ae87e7-49cb-42ea-a9ac-0af0e4124d8a"
      },
      "execution_count": 30,
      "outputs": [
        {
          "output_type": "stream",
          "name": "stdout",
          "text": [
            "tensor([[ 1],\n",
            "        [ 2],\n",
            "        [ 3],\n",
            "        [ 4],\n",
            "        [ 5],\n",
            "        [ 6],\n",
            "        [ 7],\n",
            "        [ 8],\n",
            "        [ 9],\n",
            "        [10],\n",
            "        [11],\n",
            "        [12]])\n",
            "tensor([ 1,  2,  3,  4,  5,  6,  7,  8,  9, 10, 11, 12])\n",
            "tensor([[ 1,  2,  3,  4],\n",
            "        [ 5,  6,  7,  8],\n",
            "        [ 9, 10, 11, 12]])\n",
            "tensor([[ 1,  2,  3,  4],\n",
            "        [ 5,  6,  7,  8],\n",
            "        [ 9, 10, 11, 12]])\n"
          ]
        }
      ]
    },
    {
      "cell_type": "code",
      "source": [
        "# Assign b a new shape\n",
        "b = b.view(1, -1)\n",
        "print(b)\n",
        "print(b.shape)"
      ],
      "metadata": {
        "colab": {
          "base_uri": "https://localhost:8080/"
        },
        "id": "M96F2X6qieH5",
        "outputId": "5343f6b2-d984-47fc-ee39-f32bcb2c5b1c"
      },
      "execution_count": 31,
      "outputs": [
        {
          "output_type": "stream",
          "name": "stdout",
          "text": [
            "tensor([[ 1,  2,  3,  4,  5,  6,  7,  8,  9, 10, 11, 12]])\n",
            "torch.Size([1, 12])\n"
          ]
        }
      ]
    },
    {
      "cell_type": "code",
      "source": [
        "# Create a 3D Tensor with 2 channels, 3 rowss, and 4 columns (channels, rows, columns)\n",
        "threeDim = torch.randn(2,3,4)\n",
        "print(threeDim)\n",
        "print(threeDim.view(2,12))\n",
        "print(threeDim.view(2,-1))"
      ],
      "metadata": {
        "colab": {
          "base_uri": "https://localhost:8080/"
        },
        "id": "oShyusFijTbK",
        "outputId": "873f643a-1c40-4787-e155-af0b42e37d77"
      },
      "execution_count": 32,
      "outputs": [
        {
          "output_type": "stream",
          "name": "stdout",
          "text": [
            "tensor([[[ 0.3315,  0.9033, -0.0766, -0.2915],\n",
            "         [-1.2961,  2.4202,  0.9670, -2.1355],\n",
            "         [ 1.6384,  0.3926,  0.5072, -1.0948]],\n",
            "\n",
            "        [[-0.6069,  0.6137,  0.0811,  0.0184],\n",
            "         [ 0.7636, -1.0226, -0.1317,  1.3183],\n",
            "         [ 0.0954,  1.2228,  2.2105, -0.4530]]])\n",
            "tensor([[ 0.3315,  0.9033, -0.0766, -0.2915, -1.2961,  2.4202,  0.9670, -2.1355,\n",
            "          1.6384,  0.3926,  0.5072, -1.0948],\n",
            "        [-0.6069,  0.6137,  0.0811,  0.0184,  0.7636, -1.0226, -0.1317,  1.3183,\n",
            "          0.0954,  1.2228,  2.2105, -0.4530]])\n",
            "tensor([[ 0.3315,  0.9033, -0.0766, -0.2915, -1.2961,  2.4202,  0.9670, -2.1355,\n",
            "          1.6384,  0.3926,  0.5072, -1.0948],\n",
            "        [-0.6069,  0.6137,  0.0811,  0.0184,  0.7636, -1.0226, -0.1317,  1.3183,\n",
            "          0.0954,  1.2228,  2.2105, -0.4530]])\n"
          ]
        }
      ]
    },
    {
      "cell_type": "markdown",
      "source": [
        "## Tensor Initialization"
      ],
      "metadata": {
        "id": "3sMwesLJj-cr"
      }
    },
    {
      "cell_type": "code",
      "source": [
        "# Create a matrix with random numbers between 0 and 1\n",
        "r = torch.rand(4,4)\n",
        "print(r)\n",
        "print(r.dtype)"
      ],
      "metadata": {
        "colab": {
          "base_uri": "https://localhost:8080/"
        },
        "id": "jcvOFu8lkCnl",
        "outputId": "df791ab2-ee45-4918-f5f1-66b9aa5aa03b"
      },
      "execution_count": 36,
      "outputs": [
        {
          "output_type": "stream",
          "name": "stdout",
          "text": [
            "tensor([[0.1963, 0.0841, 0.5276, 0.2430],\n",
            "        [0.9413, 0.9931, 0.6290, 0.5057],\n",
            "        [0.1185, 0.8951, 0.6938, 0.0351],\n",
            "        [0.6681, 0.3561, 0.6406, 0.5741]])\n",
            "torch.float32\n"
          ]
        }
      ]
    },
    {
      "cell_type": "code",
      "source": [
        "# Create a matrix with random numbers taken from a normal distribution with mean 0 and standard deviation 1\n",
        "r2 = torch.randn(4,4)\n",
        "print(r2)\n",
        "print(r2.dtype)"
      ],
      "metadata": {
        "colab": {
          "base_uri": "https://localhost:8080/"
        },
        "id": "P6Cx9mWrkIIV",
        "outputId": "ea55baa0-a3c2-413c-851c-a5af0eb4192f"
      },
      "execution_count": 34,
      "outputs": [
        {
          "output_type": "stream",
          "name": "stdout",
          "text": [
            "tensor([[ 1.4306, -1.0290,  1.5422,  1.3072],\n",
            "        [ 1.1015, -0.0147, -0.1567,  0.7905],\n",
            "        [-0.4253, -0.7976,  0.6186, -1.6076],\n",
            "        [ 0.3784,  1.8727, -0.4174, -0.7044]])\n",
            "torch.float32\n"
          ]
        }
      ]
    },
    {
      "cell_type": "code",
      "source": [
        "# Create an array of 5 random integers from values between 6 and 9\n",
        "r3 = torch.randint(6,10,(4,4))\n",
        "print(r3)\n",
        "print(r3.dtype)"
      ],
      "metadata": {
        "colab": {
          "base_uri": "https://localhost:8080/"
        },
        "id": "gZ7ICXGakooc",
        "outputId": "52fe259b-e8ec-440a-b3cd-5b1d82d3ff8d"
      },
      "execution_count": 45,
      "outputs": [
        {
          "output_type": "stream",
          "name": "stdout",
          "text": [
            "tensor([[8, 9, 7, 9],\n",
            "        [6, 8, 8, 9],\n",
            "        [8, 7, 9, 6],\n",
            "        [8, 7, 8, 6]])\n",
            "torch.int64\n"
          ]
        }
      ]
    },
    {
      "cell_type": "code",
      "source": [
        "# Get the number of elements in r, r2, and r3\n",
        "print(torch.numel(r))\n",
        "print(torch.numel(r2))\n",
        "print(torch.numel(r3))\n"
      ],
      "metadata": {
        "colab": {
          "base_uri": "https://localhost:8080/"
        },
        "id": "mmk9My1glFme",
        "outputId": "de25b016-4e88-4564-c1fe-75f81817cf2b"
      },
      "execution_count": 47,
      "outputs": [
        {
          "output_type": "stream",
          "name": "stdout",
          "text": [
            "16\n",
            "16\n",
            "16\n"
          ]
        }
      ]
    },
    {
      "cell_type": "code",
      "source": [
        "# Construct a 3x3 matrix of zeros and of dtype long\n",
        "z = torch.zeros( 3, 3, dtype=torch.long)\n",
        "print(z)"
      ],
      "metadata": {
        "colab": {
          "base_uri": "https://localhost:8080/"
        },
        "id": "syOvYEJ4lUKa",
        "outputId": "15d0baed-ebfa-48a6-aec9-e0a0518035d5"
      },
      "execution_count": 48,
      "outputs": [
        {
          "output_type": "stream",
          "name": "stdout",
          "text": [
            "tensor([[0, 0, 0],\n",
            "        [0, 0, 0],\n",
            "        [0, 0, 0]])\n"
          ]
        }
      ]
    }
  ]
}