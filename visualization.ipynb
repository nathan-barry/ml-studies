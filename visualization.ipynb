{
 "cells": [
  {
   "cell_type": "code",
   "execution_count": null,
   "metadata": {},
   "outputs": [],
   "source": [
    "import torch\n",
    "import torch.nn as nn\n",
    "import matplotlib.pyplot as plt\n",
    "import sklearn.datasets"
   ]
  },
  {
   "cell_type": "code",
   "execution_count": null,
   "metadata": {},
   "outputs": [],
   "source": [
    "x, y = sklearn.datasets.make_moons(200, noise=0.20)"
   ]
  },
  {
   "cell_type": "code",
   "execution_count": null,
   "metadata": {},
   "outputs": [],
   "source": [
    "# Plot data\n",
    "plt.scatter(x[:, 0], x[:, 1], c=y)\n",
    "plt.show()"
   ]
  },
  {
   "cell_type": "code",
   "execution_count": null,
   "metadata": {},
   "outputs": [],
   "source": [
    "# Convert to torch tensors\n",
    "x = torch.FloatTensor(x)\n",
    "y = torch.LongTensor(y) # Normally want to convert labels to long"
   ]
  },
  {
   "cell_type": "code",
   "execution_count": null,
   "metadata": {},
   "outputs": [],
   "source": [
    "class Model(nn.Module):\n",
    "\n",
    "    def __init__(self, input_neurons, hidden_neurons, output_neurons):\n",
    "        super(Model, self).__init__()\n",
    "        self.hidden = nn.Linear(input_neurons, hidden_neurons)\n",
    "        self.out = nn.Linear(hidden_neurons, output_neurons)\n",
    "    \n",
    "    def forward(self, x):\n",
    "        out = self.hidden(x)\n",
    "        out = nn.functional.relu(out)\n",
    "        out = self.out(out)\n",
    "        return out"
   ]
  },
  {
   "cell_type": "code",
   "execution_count": null,
   "metadata": {},
   "outputs": [],
   "source": [
    "network = Model(2, 50, 2)\n",
    "loss_function = nn.CrossEntropyLoss()\n",
    "optimizer = torch.optim.SGD(network.parameters(), lr = 0.02)"
   ]
  },
  {
   "cell_type": "code",
   "execution_count": null,
   "metadata": {},
   "outputs": [],
   "source": [
    "epochs = 10_000\n",
    "\n",
    "plt.ion()\n",
    "for epoch in range(epochs):\n",
    "    # Forward Prop\n",
    "    out = network(x)\n",
    "\n",
    "    # Calculate Loss\n",
    "    loss = loss_function(out, y)\n",
    "\n",
    "    # Calculate Gradients\n",
    "    optimizer.zero_grad\n",
    "    loss.backward()\n",
    "\n",
    "    # Update Weights\n",
    "    optimizer.step()\n",
    "\n",
    "    if epoch % 1000 == 0:\n",
    "        # Show the learning process up until now\n",
    "        max_value, prediction = torch.max(out, 1)\n",
    "        output = prediction.data.numpy() # Convert to numpy\n",
    "        labels = y.data.numpy()\n",
    "        plt.scatter(x.data.numpy()[:, 0], x.data.numpy()[:, 1], c = labels)\n",
    "        accuracy = (output == labels).mean()\n",
    "        plt.text(3, -1, f\"Accuracy = {accuracy:.2f}\")\n",
    "        plt.pause(0.1)\n",
    "\n",
    "plt.ioff()\n",
    "plt.show()"
   ]
  }
 ],
 "metadata": {
  "kernelspec": {
   "display_name": "base",
   "language": "python",
   "name": "python3"
  },
  "language_info": {
   "codemirror_mode": {
    "name": "ipython",
    "version": 3
   },
   "file_extension": ".py",
   "mimetype": "text/x-python",
   "name": "python",
   "nbconvert_exporter": "python",
   "pygments_lexer": "ipython3",
   "version": "3.9.13 (main, Aug 25 2022, 23:26:10) \n[GCC 11.2.0]"
  },
  "orig_nbformat": 4,
  "vscode": {
   "interpreter": {
    "hash": "0765b9855a7659208f612bcb0b9b5e473e80eecc03acde40f135996d767af958"
   }
  }
 },
 "nbformat": 4,
 "nbformat_minor": 2
}
