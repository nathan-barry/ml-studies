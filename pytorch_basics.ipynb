{
  "nbformat": 4,
  "nbformat_minor": 0,
  "metadata": {
    "colab": {
      "provenance": [],
      "authorship_tag": "ABX9TyPXksvmDazIgFf5t5AMhxL+",
      "include_colab_link": true
    },
    "kernelspec": {
      "name": "python3",
      "display_name": "Python 3"
    },
    "language_info": {
      "name": "python"
    }
  },
  "cells": [
    {
      "cell_type": "markdown",
      "metadata": {
        "id": "view-in-github",
        "colab_type": "text"
      },
      "source": [
        "<a href=\"https://colab.research.google.com/github/nathan-barry/ml-studies/blob/main/pytorch_basics.ipynb\" target=\"_parent\"><img src=\"https://colab.research.google.com/assets/colab-badge.svg\" alt=\"Open In Colab\"/></a>"
      ]
    },
    {
      "cell_type": "code",
      "execution_count": 3,
      "metadata": {
        "id": "66vMreXCb5PZ"
      },
      "outputs": [],
      "source": [
        "import torch"
      ]
    },
    {
      "cell_type": "markdown",
      "source": [
        "# Torch Tensor Basics"
      ],
      "metadata": {
        "id": "M2M5UBMDcfqX"
      }
    },
    {
      "cell_type": "code",
      "source": [
        "# This is a 1-D Tensor\n",
        "a = torch.tensor([2,2,1])\n",
        "print(a)"
      ],
      "metadata": {
        "colab": {
          "base_uri": "https://localhost:8080/"
        },
        "id": "idm5MG1LcwE9",
        "outputId": "6cfdd3c3-3bbb-4d5d-a608-0f3d747feb95"
      },
      "execution_count": 4,
      "outputs": [
        {
          "output_type": "stream",
          "name": "stdout",
          "text": [
            "tensor([2, 2, 1])\n"
          ]
        }
      ]
    },
    {
      "cell_type": "code",
      "source": [
        "# This is a 2-D Tensor\n",
        "b = torch.tensor([[1,2,3],[4,5,6],[7,8,9],[10,11,12]])\n",
        "print(b)"
      ],
      "metadata": {
        "colab": {
          "base_uri": "https://localhost:8080/"
        },
        "id": "-qIED1_7c3c3",
        "outputId": "7f1b99a4-9d55-4d54-cf47-9d9b0545c641"
      },
      "execution_count": 5,
      "outputs": [
        {
          "output_type": "stream",
          "name": "stdout",
          "text": [
            "tensor([[ 1,  2,  3],\n",
            "        [ 4,  5,  6],\n",
            "        [ 7,  8,  9],\n",
            "        [10, 11, 12]])\n"
          ]
        }
      ]
    },
    {
      "cell_type": "code",
      "source": [
        "# The size of the tensors\n",
        "print(a.shape)\n",
        "print(a.size())\n",
        "print(b.shape)\n",
        "print(b.size())"
      ],
      "metadata": {
        "colab": {
          "base_uri": "https://localhost:8080/"
        },
        "id": "GpShpgBGdF4j",
        "outputId": "35dc33d0-2592-4784-cfa7-ed5aa2d0cc9f"
      },
      "execution_count": 6,
      "outputs": [
        {
          "output_type": "stream",
          "name": "stdout",
          "text": [
            "torch.Size([3])\n",
            "torch.Size([3])\n",
            "torch.Size([4, 3])\n",
            "torch.Size([4, 3])\n"
          ]
        }
      ]
    },
    {
      "cell_type": "code",
      "source": [
        "# Get the height/number of rows of b\n",
        "print(b.shape[0])"
      ],
      "metadata": {
        "colab": {
          "base_uri": "https://localhost:8080/"
        },
        "id": "EjiDzzo6dA3D",
        "outputId": "5724258d-ec92-4eeb-d138-904ff4900c4c"
      },
      "execution_count": 7,
      "outputs": [
        {
          "output_type": "stream",
          "name": "stdout",
          "text": [
            "4\n"
          ]
        }
      ]
    },
    {
      "cell_type": "code",
      "source": [
        "# Create a float tensor\n",
        "c = torch.tensor([[1,2,3],[4,5,6],[7,8,9],[10,11,12]], dtype = torch.float)\n",
        "# or we can do\n",
        "# c = torch.FloatTensor([[1,2,3],[4,5,6],[7,8,9],[10,11,12]])"
      ],
      "metadata": {
        "id": "Y_mk_U3Kdhnm"
      },
      "execution_count": 8,
      "outputs": []
    },
    {
      "cell_type": "code",
      "source": [
        "# Create a float tensor\n",
        "d = torch.tensor([[1,2,3],[4,5,6],[7,8,9],[10,11,12]], dtype = torch.double)\n",
        "# or we can do\n",
        "# d = torch.DoubleTensor([[1,2,3],[4,5,6],[7,8,9],[10,11,12]])"
      ],
      "metadata": {
        "id": "dnNAEhvaeGe8"
      },
      "execution_count": 9,
      "outputs": []
    },
    {
      "cell_type": "code",
      "source": [
        "print(c.mean())\n",
        "print(c.std())"
      ],
      "metadata": {
        "colab": {
          "base_uri": "https://localhost:8080/"
        },
        "id": "bE-G-D2nf6wJ",
        "outputId": "cdbe38ad-fa1e-4996-ec01-2fd69b086569"
      },
      "execution_count": 10,
      "outputs": [
        {
          "output_type": "stream",
          "name": "stdout",
          "text": [
            "tensor(6.5000)\n",
            "tensor(3.6056)\n"
          ]
        }
      ]
    },
    {
      "cell_type": "code",
      "source": [
        "print(c)\n",
        "print(c.dtype)"
      ],
      "metadata": {
        "colab": {
          "base_uri": "https://localhost:8080/"
        },
        "id": "p-hLMupQftzV",
        "outputId": "0c5d0514-2e96-4f4f-9287-4709d1b69d1d"
      },
      "execution_count": 11,
      "outputs": [
        {
          "output_type": "stream",
          "name": "stdout",
          "text": [
            "tensor([[ 1.,  2.,  3.],\n",
            "        [ 4.,  5.,  6.],\n",
            "        [ 7.,  8.,  9.],\n",
            "        [10., 11., 12.]])\n",
            "torch.float32\n"
          ]
        }
      ]
    },
    {
      "cell_type": "code",
      "source": [
        "print(d)\n",
        "print(d.dtype)"
      ],
      "metadata": {
        "colab": {
          "base_uri": "https://localhost:8080/"
        },
        "id": "UH4ijEAmfyKo",
        "outputId": "1d34aef0-c128-4908-a860-647b411d74d0"
      },
      "execution_count": 12,
      "outputs": [
        {
          "output_type": "stream",
          "name": "stdout",
          "text": [
            "tensor([[ 1.,  2.,  3.],\n",
            "        [ 4.,  5.,  6.],\n",
            "        [ 7.,  8.,  9.],\n",
            "        [10., 11., 12.]], dtype=torch.float64)\n",
            "torch.float64\n"
          ]
        }
      ]
    },
    {
      "cell_type": "markdown",
      "source": [
        "## Tensor Initialization"
      ],
      "metadata": {
        "id": "3sMwesLJj-cr"
      }
    },
    {
      "cell_type": "code",
      "source": [
        "# Create a matrix with random numbers between 0 and 1\n",
        "r = torch.rand(4,4)\n",
        "print(r)\n",
        "print(r.dtype)"
      ],
      "metadata": {
        "colab": {
          "base_uri": "https://localhost:8080/"
        },
        "id": "jcvOFu8lkCnl",
        "outputId": "5298c77d-c4f0-46ac-c993-75d65c381d19"
      },
      "execution_count": 13,
      "outputs": [
        {
          "output_type": "stream",
          "name": "stdout",
          "text": [
            "tensor([[0.7602, 0.6852, 0.7017, 0.9714],\n",
            "        [0.0299, 0.8238, 0.4363, 0.5167],\n",
            "        [0.2306, 0.7675, 0.6680, 0.6472],\n",
            "        [0.5027, 0.9534, 0.1679, 0.2440]])\n",
            "torch.float32\n"
          ]
        }
      ]
    },
    {
      "cell_type": "code",
      "source": [
        "# Create a matrix with random numbers taken from a normal distribution with mean 0 and standard deviation 1\n",
        "r2 = torch.randn(4,4)\n",
        "print(r2)\n",
        "print(r2.dtype)"
      ],
      "metadata": {
        "colab": {
          "base_uri": "https://localhost:8080/"
        },
        "id": "P6Cx9mWrkIIV",
        "outputId": "a7e830fb-d0e1-4b5b-b1d3-2d8ed8d927a2"
      },
      "execution_count": 14,
      "outputs": [
        {
          "output_type": "stream",
          "name": "stdout",
          "text": [
            "tensor([[-0.7828, -0.9622, -0.0321, -1.0123],\n",
            "        [-0.8095, -0.5969, -0.4574, -1.3692],\n",
            "        [-0.2386, -0.0889,  0.7155, -2.2447],\n",
            "        [ 0.5511,  1.8452,  1.1265,  0.9201]])\n",
            "torch.float32\n"
          ]
        }
      ]
    },
    {
      "cell_type": "code",
      "source": [
        "# Create an array of 5 random integers from values between 6 and 9\n",
        "r3 = torch.randint(6,10,(4,4))\n",
        "print(r3)\n",
        "print(r3.dtype)"
      ],
      "metadata": {
        "colab": {
          "base_uri": "https://localhost:8080/"
        },
        "id": "gZ7ICXGakooc",
        "outputId": "3bc34cf5-018a-41b5-8bbc-6e806d0fd409"
      },
      "execution_count": 15,
      "outputs": [
        {
          "output_type": "stream",
          "name": "stdout",
          "text": [
            "tensor([[7, 9, 8, 8],\n",
            "        [8, 6, 9, 7],\n",
            "        [7, 7, 8, 6],\n",
            "        [9, 9, 6, 6]])\n",
            "torch.int64\n"
          ]
        }
      ]
    },
    {
      "cell_type": "code",
      "source": [
        "# Get the number of elements in r, r2, and r3\n",
        "print(torch.numel(r))\n",
        "print(torch.numel(r2))\n",
        "print(torch.numel(r3))\n"
      ],
      "metadata": {
        "colab": {
          "base_uri": "https://localhost:8080/"
        },
        "id": "mmk9My1glFme",
        "outputId": "579706f3-f4de-47ef-d3c8-23932ffb6da4"
      },
      "execution_count": 16,
      "outputs": [
        {
          "output_type": "stream",
          "name": "stdout",
          "text": [
            "16\n",
            "16\n",
            "16\n"
          ]
        }
      ]
    },
    {
      "cell_type": "code",
      "source": [
        "# Construct a 3x3 matrix of zeros and of dtype long\n",
        "z = torch.zeros( 3, 3, dtype=torch.long)\n",
        "print(z)\n",
        "print(z.dtype)"
      ],
      "metadata": {
        "colab": {
          "base_uri": "https://localhost:8080/"
        },
        "id": "syOvYEJ4lUKa",
        "outputId": "d3c14994-a345-463d-bca1-b22f925cb208"
      },
      "execution_count": 17,
      "outputs": [
        {
          "output_type": "stream",
          "name": "stdout",
          "text": [
            "tensor([[0, 0, 0],\n",
            "        [0, 0, 0],\n",
            "        [0, 0, 0]])\n",
            "torch.int64\n"
          ]
        }
      ]
    },
    {
      "cell_type": "code",
      "source": [
        "# Construct a 3x3 matrix of ones\n",
        "o = torch.ones(3,3)\n",
        "print(o)\n",
        "print(o.dtype)"
      ],
      "metadata": {
        "colab": {
          "base_uri": "https://localhost:8080/"
        },
        "id": "5yo-0jBTl-ug",
        "outputId": "d36e146b-017f-41c3-b8a2-ffe300e807fe"
      },
      "execution_count": 18,
      "outputs": [
        {
          "output_type": "stream",
          "name": "stdout",
          "text": [
            "tensor([[1., 1., 1.],\n",
            "        [1., 1., 1.],\n",
            "        [1., 1., 1.]])\n",
            "torch.float32\n"
          ]
        }
      ]
    },
    {
      "cell_type": "code",
      "source": [
        "# Create an array with normal distrubution values in the shape of another tensor\n",
        "r2_like = torch.randn_like(r2, dtype=torch.double)\n",
        "print(r2_like)\n"
      ],
      "metadata": {
        "colab": {
          "base_uri": "https://localhost:8080/"
        },
        "id": "NyFQO9bNmSWY",
        "outputId": "2608f51c-3055-4e48-e85b-572b8d763c56"
      },
      "execution_count": 19,
      "outputs": [
        {
          "output_type": "stream",
          "name": "stdout",
          "text": [
            "tensor([[-0.0949, -0.0719, -0.8928,  0.8732],\n",
            "        [ 0.2456,  0.0234,  0.9693, -0.1658],\n",
            "        [ 0.4485,  0.5590, -0.7979,  0.5977],\n",
            "        [-0.3334, -1.3010, -0.0693,  0.6398]], dtype=torch.float64)\n"
          ]
        }
      ]
    },
    {
      "cell_type": "markdown",
      "source": [
        "## Tensor Manipulation"
      ],
      "metadata": {
        "id": "eQ8He-9xhzTU"
      }
    },
    {
      "cell_type": "code",
      "source": [
        "# Note: if one of the dimensions is -1, its size can be inferred\n",
        "print(b.view(-1, 1))\n",
        "print(b.view(12))\n",
        "print(b.view(-1,4))\n",
        "print(b.view(3,4))"
      ],
      "metadata": {
        "colab": {
          "base_uri": "https://localhost:8080/"
        },
        "id": "9Z15nYekiC5-",
        "outputId": "50ef6a4d-0b98-40f7-904c-c323f3a9e170"
      },
      "execution_count": 20,
      "outputs": [
        {
          "output_type": "stream",
          "name": "stdout",
          "text": [
            "tensor([[ 1],\n",
            "        [ 2],\n",
            "        [ 3],\n",
            "        [ 4],\n",
            "        [ 5],\n",
            "        [ 6],\n",
            "        [ 7],\n",
            "        [ 8],\n",
            "        [ 9],\n",
            "        [10],\n",
            "        [11],\n",
            "        [12]])\n",
            "tensor([ 1,  2,  3,  4,  5,  6,  7,  8,  9, 10, 11, 12])\n",
            "tensor([[ 1,  2,  3,  4],\n",
            "        [ 5,  6,  7,  8],\n",
            "        [ 9, 10, 11, 12]])\n",
            "tensor([[ 1,  2,  3,  4],\n",
            "        [ 5,  6,  7,  8],\n",
            "        [ 9, 10, 11, 12]])\n"
          ]
        }
      ]
    },
    {
      "cell_type": "code",
      "source": [
        "# Assign b a new shape\n",
        "b = b.view(1, -1)\n",
        "print(b)\n",
        "print(b.shape)"
      ],
      "metadata": {
        "colab": {
          "base_uri": "https://localhost:8080/"
        },
        "id": "M96F2X6qieH5",
        "outputId": "027624d4-4459-4c81-877a-82f224d9ee86"
      },
      "execution_count": 21,
      "outputs": [
        {
          "output_type": "stream",
          "name": "stdout",
          "text": [
            "tensor([[ 1,  2,  3,  4,  5,  6,  7,  8,  9, 10, 11, 12]])\n",
            "torch.Size([1, 12])\n"
          ]
        }
      ]
    },
    {
      "cell_type": "code",
      "source": [
        "# Create a 3D Tensor with 2 channels, 3 rowss, and 4 columns (channels, rows, columns)\n",
        "threeDim = torch.randn(2,3,4)\n",
        "print(threeDim)\n",
        "print(threeDim.view(2,12))\n",
        "print(threeDim.view(2,-1))"
      ],
      "metadata": {
        "colab": {
          "base_uri": "https://localhost:8080/"
        },
        "id": "oShyusFijTbK",
        "outputId": "34673fb5-946a-44f8-f8ad-48c32cb76c47"
      },
      "execution_count": 22,
      "outputs": [
        {
          "output_type": "stream",
          "name": "stdout",
          "text": [
            "tensor([[[ 1.0480, -0.2369,  1.3260,  0.5558],\n",
            "         [ 1.0357, -0.2684,  1.5332,  1.2223],\n",
            "         [-0.5484,  0.8098, -0.7245, -0.5128]],\n",
            "\n",
            "        [[-0.4894, -1.7492, -0.4508, -0.9753],\n",
            "         [-1.3272, -1.2372, -0.5702,  1.6642],\n",
            "         [ 0.5156,  1.1326,  0.7150, -0.0244]]])\n",
            "tensor([[ 1.0480, -0.2369,  1.3260,  0.5558,  1.0357, -0.2684,  1.5332,  1.2223,\n",
            "         -0.5484,  0.8098, -0.7245, -0.5128],\n",
            "        [-0.4894, -1.7492, -0.4508, -0.9753, -1.3272, -1.2372, -0.5702,  1.6642,\n",
            "          0.5156,  1.1326,  0.7150, -0.0244]])\n",
            "tensor([[ 1.0480, -0.2369,  1.3260,  0.5558,  1.0357, -0.2684,  1.5332,  1.2223,\n",
            "         -0.5484,  0.8098, -0.7245, -0.5128],\n",
            "        [-0.4894, -1.7492, -0.4508, -0.9753, -1.3272, -1.2372, -0.5702,  1.6642,\n",
            "          0.5156,  1.1326,  0.7150, -0.0244]])\n"
          ]
        }
      ]
    },
    {
      "cell_type": "code",
      "source": [
        "# Add two tensors (need to be same size and data type)\n",
        "add_result = torch.add(r, r2)\n",
        "print(add_result)"
      ],
      "metadata": {
        "colab": {
          "base_uri": "https://localhost:8080/"
        },
        "id": "k58no44tmuKy",
        "outputId": "e42549dd-4037-4259-99c0-cfeb0e69238b"
      },
      "execution_count": 23,
      "outputs": [
        {
          "output_type": "stream",
          "name": "stdout",
          "text": [
            "tensor([[-0.0226, -0.2770,  0.6695, -0.0409],\n",
            "        [-0.7796,  0.2269, -0.0210, -0.8525],\n",
            "        [-0.0079,  0.6786,  1.3834, -1.5975],\n",
            "        [ 1.0538,  2.7985,  1.2944,  1.1642]])\n"
          ]
        }
      ]
    },
    {
      "cell_type": "code",
      "source": [
        "# In-place addition (change value of r2)\n",
        "r2.add_(r)\n",
        "print(r2)"
      ],
      "metadata": {
        "colab": {
          "base_uri": "https://localhost:8080/"
        },
        "id": "FI_kn6a9m1KU",
        "outputId": "f3d43afa-900a-4ec6-e066-28b3c3b31b83"
      },
      "execution_count": 24,
      "outputs": [
        {
          "output_type": "stream",
          "name": "stdout",
          "text": [
            "tensor([[-0.0226, -0.2770,  0.6695, -0.0409],\n",
            "        [-0.7796,  0.2269, -0.0210, -0.8525],\n",
            "        [-0.0079,  0.6786,  1.3834, -1.5975],\n",
            "        [ 1.0538,  2.7985,  1.2944,  1.1642]])\n"
          ]
        }
      ]
    },
    {
      "cell_type": "code",
      "source": [
        "# Slicing\n",
        "print(r2[:,1]) # All the rows in the first column\n",
        "print(r2[:,:2]) # All the rows in the first 2 columns\n",
        "print(r2[:3,:]) # All the columns in the first 3 rows"
      ],
      "metadata": {
        "colab": {
          "base_uri": "https://localhost:8080/"
        },
        "id": "4bf-gkibnq8j",
        "outputId": "f7df60ac-505c-48a2-f633-b50174a37585"
      },
      "execution_count": 25,
      "outputs": [
        {
          "output_type": "stream",
          "name": "stdout",
          "text": [
            "tensor([-0.2770,  0.2269,  0.6786,  2.7985])\n",
            "tensor([[-0.0226, -0.2770],\n",
            "        [-0.7796,  0.2269],\n",
            "        [-0.0079,  0.6786],\n",
            "        [ 1.0538,  2.7985]])\n",
            "tensor([[-0.0226, -0.2770,  0.6695, -0.0409],\n",
            "        [-0.7796,  0.2269, -0.0210, -0.8525],\n",
            "        [-0.0079,  0.6786,  1.3834, -1.5975]])\n"
          ]
        }
      ]
    },
    {
      "cell_type": "code",
      "source": [
        "num_ten = r2[2,3] # element in third row fourth column\n",
        "print(num_ten)\n",
        "print(num_ten.item())\n",
        "print(r2[2,:]) # All columns in second row"
      ],
      "metadata": {
        "colab": {
          "base_uri": "https://localhost:8080/"
        },
        "id": "jeeJX3fdn8jy",
        "outputId": "64599941-c445-4177-f4bb-b8dd3034da00"
      },
      "execution_count": 26,
      "outputs": [
        {
          "output_type": "stream",
          "name": "stdout",
          "text": [
            "tensor(-1.5975)\n",
            "-1.597470998764038\n",
            "tensor([-0.0079,  0.6786,  1.3834, -1.5975])\n"
          ]
        }
      ]
    },
    {
      "cell_type": "code",
      "source": [
        "# Moving tensor to GPU\n",
        "print(torch.cuda.is_available())\n",
        "#r2 = r2.cuda()"
      ],
      "metadata": {
        "colab": {
          "base_uri": "https://localhost:8080/"
        },
        "id": "y4GpZWeQO-pn",
        "outputId": "483ed0c6-09ab-4d24-989e-335d811226b6"
      },
      "execution_count": 34,
      "outputs": [
        {
          "output_type": "stream",
          "name": "stdout",
          "text": [
            "False\n"
          ]
        }
      ]
    },
    {
      "cell_type": "markdown",
      "source": [
        "## Numpy Bridge"
      ],
      "metadata": {
        "id": "3ejEpP3MpAv4"
      }
    },
    {
      "cell_type": "code",
      "source": [
        "import numpy as np"
      ],
      "metadata": {
        "id": "lTvAXBRGpFFY"
      },
      "execution_count": 27,
      "outputs": []
    },
    {
      "cell_type": "code",
      "source": [
        "# Converting a Torch Tensor to a NumPy Array\n",
        "a = torch.ones(5)\n",
        "print(a)\n",
        "b = a.numpy()\n",
        "print(b)\n",
        "\n",
        "# Updating one updates the other\n",
        "a.add_(1)\n",
        "print(a)\n",
        "print(b)"
      ],
      "metadata": {
        "colab": {
          "base_uri": "https://localhost:8080/"
        },
        "id": "hrsiCwYfOJem",
        "outputId": "5bbc0f61-3aa4-409d-80b2-b94c74472fb3"
      },
      "execution_count": 29,
      "outputs": [
        {
          "output_type": "stream",
          "name": "stdout",
          "text": [
            "tensor([1., 1., 1., 1., 1.])\n",
            "[1. 1. 1. 1. 1.]\n",
            "tensor([2., 2., 2., 2., 2.])\n",
            "[2. 2. 2. 2. 2.]\n"
          ]
        }
      ]
    },
    {
      "cell_type": "code",
      "source": [
        "# Convert NumPy Array to Torch Tensor\n",
        "a = np.ones(5)\n",
        "b = torch.from_numpy(a)\n",
        "print(a)\n",
        "print(b)\n",
        "\n",
        "np.add(a, 1, out=a)\n",
        "print(a)\n",
        "print(b)"
      ],
      "metadata": {
        "colab": {
          "base_uri": "https://localhost:8080/"
        },
        "id": "D8-hlbrdOm1X",
        "outputId": "dddd287d-f52d-483f-de4f-6e4704ad7099"
      },
      "execution_count": 31,
      "outputs": [
        {
          "output_type": "stream",
          "name": "stdout",
          "text": [
            "[1. 1. 1. 1. 1.]\n",
            "tensor([1., 1., 1., 1., 1.], dtype=torch.float64)\n",
            "[2. 2. 2. 2. 2.]\n",
            "tensor([2., 2., 2., 2., 2.], dtype=torch.float64)\n"
          ]
        }
      ]
    },
    {
      "cell_type": "code",
      "source": [
        "# Converting a list to a tensor\n",
        "a = [1,2,3,4]\n",
        "print(a)\n",
        "to_list = torch.tensor(a)\n",
        "print(to_list, to_list.dtype)"
      ],
      "metadata": {
        "colab": {
          "base_uri": "https://localhost:8080/"
        },
        "id": "_b8K5mdbPRJ0",
        "outputId": "bb58e69c-dba8-4c48-9d03-c8ff1ba055fb"
      },
      "execution_count": 36,
      "outputs": [
        {
          "output_type": "stream",
          "name": "stdout",
          "text": [
            "[1, 2, 3, 4]\n",
            "tensor([1, 2, 3, 4]) torch.int64\n"
          ]
        }
      ]
    },
    {
      "cell_type": "markdown",
      "source": [
        "## Tensor Concatenation"
      ],
      "metadata": {
        "id": "StBKBFbpPgrN"
      }
    },
    {
      "cell_type": "code",
      "source": [
        "# Tensor Concatenation\n",
        "first1 = torch.randn(2,5)\n",
        "print(first1)\n",
        "second1 = torch.randn(3,5)\n",
        "print(second1)\n",
        "\n",
        "# Concatenate along the 0 dimension (concatenate rows)\n",
        "con1 = torch.cat([first1, second1])\n",
        "print('\\n')\n",
        "print(con1)\n",
        "print('\\n')\n",
        "\n",
        "first2 = torch.randn(2,3)\n",
        "print(first2)\n",
        "second2 = torch.randn(2,5)\n",
        "print(second2)\n",
        "\n",
        "# Concatenate along the 1 dimension (concatenate columns)\n",
        "con2 = torch.cat([first2,second2],1)\n",
        "print('\\n')\n",
        "print(con2)\n",
        "print('\\n')"
      ],
      "metadata": {
        "colab": {
          "base_uri": "https://localhost:8080/"
        },
        "id": "kGOXWS_3Pjaw",
        "outputId": "eff575c6-8d8b-49dc-867b-feff553a45db"
      },
      "execution_count": 41,
      "outputs": [
        {
          "output_type": "stream",
          "name": "stdout",
          "text": [
            "tensor([[ 0.1549, -1.5662,  1.9940,  0.4466,  2.1681],\n",
            "        [-2.6334, -0.6831, -0.0817,  0.0984,  1.1853]])\n",
            "tensor([[-2.2453, -0.4524,  0.2878,  0.6334,  0.2179],\n",
            "        [-0.2130, -0.3381,  1.4571, -1.6605, -0.5488],\n",
            "        [ 0.5372, -0.0036,  0.9148,  2.4683, -1.8653]])\n",
            "\n",
            "\n",
            "tensor([[ 0.1549, -1.5662,  1.9940,  0.4466,  2.1681],\n",
            "        [-2.6334, -0.6831, -0.0817,  0.0984,  1.1853],\n",
            "        [-2.2453, -0.4524,  0.2878,  0.6334,  0.2179],\n",
            "        [-0.2130, -0.3381,  1.4571, -1.6605, -0.5488],\n",
            "        [ 0.5372, -0.0036,  0.9148,  2.4683, -1.8653]])\n",
            "\n",
            "\n",
            "tensor([[-1.8240,  1.5482,  0.5836],\n",
            "        [ 0.6046,  0.6958, -0.2904]])\n",
            "tensor([[-0.5139,  0.0788, -1.3835, -1.4164,  0.8374],\n",
            "        [ 0.4235,  0.3307,  0.5667, -1.0839,  0.1657]])\n",
            "\n",
            "\n",
            "tensor([[-1.8240,  1.5482,  0.5836, -0.5139,  0.0788, -1.3835, -1.4164,  0.8374],\n",
            "        [ 0.6046,  0.6958, -0.2904,  0.4235,  0.3307,  0.5667, -1.0839,  0.1657]])\n",
            "\n",
            "\n"
          ]
        }
      ]
    },
    {
      "cell_type": "markdown",
      "source": [
        "## Adding Dimensions"
      ],
      "metadata": {
        "id": "rNAV9zd9Q1ZH"
      }
    },
    {
      "cell_type": "code",
      "source": [
        "# Adding dimensions of 1 along a specified index\n",
        "tensor1 = torch.tensor([1,2,3,4])\n",
        "tensor2 = torch.unsqueeze(tensor1, 0)\n",
        "print(tensor1)\n",
        "print(tensor1.shape)\n",
        "print(tensor2)\n",
        "print(tensor2.shape)"
      ],
      "metadata": {
        "colab": {
          "base_uri": "https://localhost:8080/"
        },
        "id": "qRVQwhZ4Q3l7",
        "outputId": "bf9ed027-8703-4872-ef78-fd3c8f8c074f"
      },
      "execution_count": 42,
      "outputs": [
        {
          "output_type": "stream",
          "name": "stdout",
          "text": [
            "tensor([1, 2, 3, 4])\n",
            "torch.Size([4])\n",
            "tensor([[1, 2, 3, 4]])\n",
            "torch.Size([1, 4])\n"
          ]
        }
      ]
    },
    {
      "cell_type": "markdown",
      "source": [
        "## AutoGrad"
      ],
      "metadata": {
        "id": "ZehhVdxWRrzu"
      }
    },
    {
      "cell_type": "code",
      "source": [
        "x = torch.tensor([1., 2., 3], requires_grad=True)\n",
        "y = torch.tensor([4., 5., 6], requires_grad=True)\n",
        "\n",
        "# Since x and y have required_grad set to true, we can computer gradients with respect to them\n",
        "z = x + y\n",
        "print(z)\n",
        "\n",
        "# z knows that is was created as a result of addition of x and y\n",
        "print(z.grad_fn)\n",
        "\n",
        "s = z.sum()\n",
        "print(s)\n",
        "print(s.grad_fn)"
      ],
      "metadata": {
        "colab": {
          "base_uri": "https://localhost:8080/"
        },
        "id": "j65_vNa3RuCk",
        "outputId": "9592b067-d643-424c-ec52-3ddc0d90d358"
      },
      "execution_count": 45,
      "outputs": [
        {
          "output_type": "stream",
          "name": "stdout",
          "text": [
            "tensor([5., 7., 9.], grad_fn=<AddBackward0>)\n",
            "<AddBackward0 object at 0x7f919ace0ac0>\n",
            "tensor(21., grad_fn=<SumBackward0>)\n",
            "<SumBackward0 object at 0x7f919ace0610>\n"
          ]
        }
      ]
    },
    {
      "cell_type": "code",
      "source": [
        "# If we backpropagate on s, we can find the gradients of s with respect to x\n",
        "s.backward()\n",
        "print(x.grad)"
      ],
      "metadata": {
        "colab": {
          "base_uri": "https://localhost:8080/"
        },
        "id": "93gXdEINSeGO",
        "outputId": "7d09684d-3c28-49ad-840f-d67f148984fa"
      },
      "execution_count": 46,
      "outputs": [
        {
          "output_type": "stream",
          "name": "stdout",
          "text": [
            "tensor([1., 1., 1.])\n"
          ]
        }
      ]
    }
  ]
}