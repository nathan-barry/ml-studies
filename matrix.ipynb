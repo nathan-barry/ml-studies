{
 "cells": [
  {
   "cell_type": "code",
   "execution_count": null,
   "metadata": {},
   "outputs": [],
   "source": [
    "class Matrix():\n",
    "\n",
    "    def __init__(self, shape, values):\n",
    "\n",
    "        self.shape = shape\n",
    "        # Assert shape is row by column\n",
    "        assert len(shape) == 2\n",
    "\n",
    "        self.values = values\n",
    "        # Assert values is of correct row size\n",
    "        assert len(values) == shape[0]\n",
    "        # Assert that each column is of correct size\n",
    "        for row in values:\n",
    "            assert len(row) == shape[1]\n",
    "\n",
    "    \n",
    "    def matrix_mul(self, matrix2):\n",
    "        # Assert column size equals other row size\n",
    "        assert self.shape[1] == matrix2.shape[0]\n",
    "\n",
    "        new_values = []\n",
    "        for i in self.shape[0]: # iterate through self rows\n",
    "            cur_row = []\n",
    "            for j in self.shape[1]: # iterate through self columns in self rows\n",
    "                cur_total = 0\n",
    "                for g in matrix2.shape[0]: # iterate through other columns\n",
    "                    cur_total += self.values[j][g] * matrix2.values[j][g]\n",
    "                cur_row.append(cur_total)\n",
    "            new_values.append(cur_row)\n",
    "        \n",
    "\n",
    "        return Matrix((self.shape[0], self.shape[1]), new_values)\n",
    "\n",
    "    def __repr__(self):\n",
    "        return self.values\n"
   ]
  },
  {
   "cell_type": "code",
   "execution_count": null,
   "metadata": {},
   "outputs": [],
   "source": []
  },
  {
   "cell_type": "code",
   "execution_count": null,
   "metadata": {},
   "outputs": [],
   "source": [
    "matrix1 = [[1, 2, 3]]\n",
    "matrix2 = [[1], [2], [3]]"
   ]
  }
 ],
 "metadata": {
  "language_info": {
   "name": "python"
  },
  "orig_nbformat": 4
 },
 "nbformat": 4,
 "nbformat_minor": 2
}
