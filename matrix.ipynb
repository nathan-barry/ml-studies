{
 "cells": [
  {
   "cell_type": "code",
   "execution_count": 60,
   "metadata": {},
   "outputs": [],
   "source": [
    "class Matrix():\n",
    "\n",
    "    def __init__(self, shape, values):\n",
    "\n",
    "        self.shape = shape\n",
    "        # Assert shape is row by column\n",
    "        assert len(shape) == 2\n",
    "\n",
    "        self.values = values\n",
    "        # Assert values is of correct row size\n",
    "        assert len(values) == shape[0], f\"Row size is {len(values)}, Should be {shape[0]}\"\n",
    "        # Assert that each column is of correct size\n",
    "        for row in values:\n",
    "            assert len(row) == shape[1], f\"Column size is: {shape[1]}\"\n",
    "\n",
    "    \n",
    "    def matrix_mul(self, matrix2):\n",
    "        # Assert column size equals other row size\n",
    "        assert self.shape[1] == matrix2.shape[0]\n",
    "\n",
    "        new_values = []\n",
    "        for i in range(self.shape[0]): # iterate through self rows\n",
    "            cur_row = []\n",
    "            for j in range(matrix2.shape[1]): # iterate through other columns\n",
    "                cur_total = 0\n",
    "                for g in range(self.shape[1]): # iterate through self columns\n",
    "                    cur_total += self.values[i][g] * matrix2.values[g][j]\n",
    "                cur_row.append(cur_total)\n",
    "            new_values.append(cur_row)\n",
    "\n",
    "        return Matrix((self.shape[0], matrix2.shape[1]), new_values)\n",
    "\n",
    "    def __repr__(self):\n",
    "        return str(self.values).replace(\", [\", \",\\n [\") + \"\\n\""
   ]
  },
  {
   "cell_type": "code",
   "execution_count": 61,
   "metadata": {},
   "outputs": [
    {
     "name": "stdout",
     "output_type": "stream",
     "text": [
      "[[1],\n",
      " [2],\n",
      " [3]]\n",
      "\n",
      "[[1, 2]]\n",
      "\n",
      "[[1, 2],\n",
      " [2, 4],\n",
      " [3, 6]]\n",
      "\n"
     ]
    }
   ],
   "source": [
    "matrix1 = Matrix((3,1), [[1], [2], [3]])\n",
    "print(matrix1)\n",
    "\n",
    "matrix2 = Matrix((1,2), [[1, 2]])\n",
    "print(matrix2)\n",
    "\n",
    "matrix3 = matrix1.matrix_mul(matrix2)\n",
    "print(matrix3)"
   ]
  },
  {
   "cell_type": "code",
   "execution_count": 63,
   "metadata": {},
   "outputs": [
    {
     "name": "stdout",
     "output_type": "stream",
     "text": [
      "[[1, 2, 3, 4, 5, 6],\n",
      " [7, 8, 9, 10, 11, 12],\n",
      " [13, 14, 15, 16, 17, 18],\n",
      " [19, 20, 21, 22, 23, 24]]\n",
      "\n",
      "[[11, 22, 33, 44, 55],\n",
      " [12, 34, 32, 43, 12],\n",
      " [12, 34, 32, 43, 12],\n",
      " [12, 34, 32, 43, 12],\n",
      " [12, 34, 32, 43, 12],\n",
      " [12, 34, 32, 43, 12]]\n",
      "\n",
      "[[251, 702, 673, 904, 295],\n",
      " [677, 1854, 1831, 2458, 985],\n",
      " [1103, 3006, 2989, 4012, 1675],\n",
      " [1529, 4158, 4147, 5566, 2365]]\n",
      "\n"
     ]
    }
   ],
   "source": [
    "matrix1 = Matrix((4, 6), [[ 1,  2,  3,  4,  5,  6],\n",
    "                          [ 7,  8,  9, 10, 11, 12],\n",
    "                          [13, 14, 15, 16, 17, 18],\n",
    "                          [19, 20, 21, 22, 23, 24]])\n",
    "print(matrix1)\n",
    "\n",
    "matrix2 = Matrix((6, 5), [[11, 22, 33, 44, 55],\n",
    "                          [12, 34, 32, 43, 12],\n",
    "                          [12, 34, 32, 43, 12],\n",
    "                          [12, 34, 32, 43, 12],\n",
    "                          [12, 34, 32, 43, 12],\n",
    "                          [12, 34, 32, 43, 12]])\n",
    "print(matrix2)\n",
    "\n",
    "matrix3 = matrix1.matrix_mul(matrix2)\n",
    "print(matrix3)"
   ]
  }
 ],
 "metadata": {
  "kernelspec": {
   "display_name": "base",
   "language": "python",
   "name": "python3"
  },
  "language_info": {
   "codemirror_mode": {
    "name": "ipython",
    "version": 3
   },
   "file_extension": ".py",
   "mimetype": "text/x-python",
   "name": "python",
   "nbconvert_exporter": "python",
   "pygments_lexer": "ipython3",
   "version": "3.9.13"
  },
  "orig_nbformat": 4,
  "vscode": {
   "interpreter": {
    "hash": "0765b9855a7659208f612bcb0b9b5e473e80eecc03acde40f135996d767af958"
   }
  }
 },
 "nbformat": 4,
 "nbformat_minor": 2
}
